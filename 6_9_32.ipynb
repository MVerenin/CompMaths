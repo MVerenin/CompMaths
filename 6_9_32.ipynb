{
 "cells": [
  {
   "cell_type": "markdown",
   "metadata": {},
   "source": [
    "### Задача VI.9.32"
   ]
  },
  {
   "cell_type": "code",
   "execution_count": 10,
   "metadata": {},
   "outputs": [
    {
     "name": "stdout",
     "output_type": "stream",
     "text": [
      "827906508.9999955\n"
     ]
    }
   ],
   "source": [
    "#Метод Ньютона\n",
    "ArrX = list(map(float,('1910 1920 1930 1940 1950 1960 1970 1980 1990 2000').split()))\n",
    "ArrY = list(map(float,('92228496 106021537 123202624 132164569 151325798 179323175 203211926 226545805 248709873 281421906').split()))\n",
    "def _poly_newton_coefficient(ArrX, ArrY):\n",
    "    m = len(ArrX)\n",
    "    x = np.copy(ArrX)\n",
    "    y = np.copy(ArrY)\n",
    "    for k in range(1, m):\n",
    "        y[k:m] = (y[k:m] - y[k - 1])/(x[k:m] - x[k - 1])\n",
    "    return y\n",
    "def newton_polynomial(ArrX, ArrY, x1):\n",
    "    a = _poly_newton_coefficient(ArrX, ArrY)\n",
    "    n = len(ArrX) - 1  # Degree of polynomial\n",
    "    p = a[n]\n",
    "    for k in range(1, n + 1):\n",
    "        p = a[n - k] + (x1 - ArrX[n - k])*p\n",
    "    return p\n",
    "print(newton_polynomial(ArrX,ArrY,2010))"
   ]
  },
  {
   "cell_type": "code",
   "execution_count": 13,
   "metadata": {},
   "outputs": [
    {
     "name": "stdout",
     "output_type": "stream",
     "text": [
      "314133939.0\n"
     ]
    }
   ],
   "source": [
    "#Аппроксимация\n",
    "x0 = 2010\n",
    "u = np.array([])\n",
    "for i in range (9):\n",
    "    A = (ArrY[i+1]-ArrY[i])/(ArrX[i+1]-ArrX[i])\n",
    "    u = np.append(u,A)\n",
    "uu = np.array([])\n",
    "for i in range (8):\n",
    "    A=(u[i+1]-u[i])/(ArrX[i+2]-ArrX[i])\n",
    "    uu = np.append(uu,A)\n",
    "M = np.zeros((8,8))\n",
    "for i in range(8):\n",
    "    for j in range(8):\n",
    "        if i==j:\n",
    "            M[i][j]=2\n",
    "        else:\n",
    "            if (i-j)*(i-j)==1:\n",
    "                M[i][j]=1/2\n",
    "m = np.linalg.inv(M)\n",
    "c = np.linalg.solve(M,6*uu)\n",
    "c = np.append(0,c)\n",
    "c =  np.append(c,0)\n",
    "d =np.zeros(10)\n",
    "for i in range(9):\n",
    "    d[i+1] = (c[i+1]-c[i])/10\n",
    "b = np.zeros(10)\n",
    "for i in range(9):\n",
    "    b[i+1] = c[i+1]*10/3+c[i]*10/6+u[i]\n",
    "a = np.zeros(10)\n",
    "for i in range(10):\n",
    "    a[i] = ArrY[i]\n",
    "N = a[9]+b[9]*(x0-x[9])+c[9]/2*pow(x0-x[9],2)+d[9]/6*pow(x0-x[9],3)\n",
    "print(N)"
   ]
  }
 ],
 "metadata": {
  "kernelspec": {
   "display_name": "Python 3",
   "language": "python",
   "name": "python3"
  },
  "language_info": {
   "codemirror_mode": {
    "name": "ipython",
    "version": 3
   },
   "file_extension": ".py",
   "mimetype": "text/x-python",
   "name": "python",
   "nbconvert_exporter": "python",
   "pygments_lexer": "ipython3",
   "version": "3.8.5"
  }
 },
 "nbformat": 4,
 "nbformat_minor": 4
}
