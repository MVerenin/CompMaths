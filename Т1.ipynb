{
 "cells": [
  {
   "cell_type": "markdown",
   "metadata": {},
   "source": [
    "### Задача Т1"
   ]
  },
  {
   "cell_type": "code",
   "execution_count": 15,
   "metadata": {},
   "outputs": [
    {
     "name": "stdout",
     "output_type": "stream",
     "text": [
      "[0.64988898 0.76002915]\n",
      "[-0.64988898 -0.76002915]\n"
     ]
    }
   ],
   "source": [
    "import math\n",
    "import numpy as np\n",
    "u=np.array([0.3, 0.6])\n",
    "u1=np.array([1,1])\n",
    "while (u[0]-u1[0])**2+(u[1]-u1[1])**2 > 0.000001*0.000001:\n",
    "    u1=u\n",
    "    I=np.array([[2*u[0], 2*u[1]], [-1/math.cos(u[0]), 1]])\n",
    "    I=np.linalg.inv(I)\n",
    "    f=np.array([u[0]*u[0]+u[1]*u[1]-1, u[1]-math.tan(u[0])])\n",
    "    u=u-I.dot(f)\n",
    "print(u)\n",
    "\n",
    "u=np.array([-0.3, -0.6])\n",
    "u1=np.array([1,1])\n",
    "while (u[0]-u1[0])*(u[0]-u1[0])+(u[1]-u1[1])*(u[1]-u1[1])>0.000001*0.000001:\n",
    "    u1=u\n",
    "    I=np.array([[2*u[0], 2*u[1]], [-1/math.cos(u[0]), 1]])\n",
    "    I=np.linalg.inv(I)\n",
    "    f=np.array([u[0]*u[0]+u[1]*u[1]-1, u[1]-math.tan(u[0])])\n",
    "    u=u-I.dot(f)\n",
    "print(u)"
   ]
  }
 ],
 "metadata": {
  "kernelspec": {
   "display_name": "Python 3",
   "language": "python",
   "name": "python3"
  },
  "language_info": {
   "codemirror_mode": {
    "name": "ipython",
    "version": 3
   },
   "file_extension": ".py",
   "mimetype": "text/x-python",
   "name": "python",
   "nbconvert_exporter": "python",
   "pygments_lexer": "ipython3",
   "version": "3.8.5"
  }
 },
 "nbformat": 4,
 "nbformat_minor": 4
}
