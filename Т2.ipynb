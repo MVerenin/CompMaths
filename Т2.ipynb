{
 "cells": [
  {
   "cell_type": "markdown",
   "metadata": {},
   "source": [
    "### Задача Т2"
   ]
  },
  {
   "cell_type": "code",
   "execution_count": 2,
   "metadata": {},
   "outputs": [
    {
     "name": "stdout",
     "output_type": "stream",
     "text": [
      "trapecia:  0.009997763166967455\n",
      "leviy prjamougolnik:  0.009997822399715172\n",
      "praviy prjamougolnik:  0.009997703934219818\n"
     ]
    }
   ],
   "source": [
    "import math\n",
    "I=0\n",
    "a=0\n",
    "n=3000\n",
    "for i in range(n):\n",
    "    x=3/n*(i+1)\n",
    "    b=math.sin(100*x)*math.exp(-x*x)*math.cos(2*x)\n",
    "    I+=(a+b)\n",
    "    a=b\n",
    "I=I*3/n/2\n",
    "print('Трапеция: ', I)\n",
    "\n",
    "I1=0\n",
    "I2=0\n",
    "for i in range(n):\n",
    "    a=3/n*i\n",
    "    b=3/n*(i+1)\n",
    "    I1+=math.sin(100*a)*math.exp(-a*a)*math.cos(2*a)\n",
    "    I2+=math.sin(100*b)*math.exp(-b*b)*math.cos(2*b)\n",
    "I1=I1*3/n\n",
    "I2=I2*3/n\n",
    "print('Левый прямоугольник: ', I1)\n",
    "print('Правый прямоугольник: ', I2)\n"
   ]
  }
 ],
 "metadata": {
  "kernelspec": {
   "display_name": "Python 3",
   "language": "python",
   "name": "python3"
  },
  "language_info": {
   "codemirror_mode": {
    "name": "ipython",
    "version": 3
   },
   "file_extension": ".py",
   "mimetype": "text/x-python",
   "name": "python",
   "nbconvert_exporter": "python",
   "pygments_lexer": "ipython3",
   "version": "3.8.5"
  }
 },
 "nbformat": 4,
 "nbformat_minor": 4
}
