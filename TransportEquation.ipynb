{
 "cells": [
  {
   "cell_type": "markdown",
   "metadata": {},
   "source": [
    "### Численное решение уравнения переноса"
   ]
  },
  {
   "cell_type": "code",
   "execution_count": 76,
   "metadata": {},
   "outputs": [],
   "source": [
    "# Импортируем модули для расчётов\n",
    "import numpy as np\n",
    "import matplotlib.pyplot as plt\n",
    "import math as m"
   ]
  },
  {
   "cell_type": "code",
   "execution_count": 77,
   "metadata": {},
   "outputs": [
    {
     "name": "stdout",
     "output_type": "stream",
     "text": [
      "0.012566370614359175\n"
     ]
    }
   ],
   "source": [
    "L = m.pi # x = [0,pi] - длина области, в которой решается задача\n",
    "C1 = 1.0 # lyambda\n",
    "C2 = -1.0\n",
    "T = 10.0\n",
    "M = 51 # количество узлов вдоль оси\n",
    "x = np.linspace(0, m.pi, M)\n",
    "h = L / (M-1) # шаг по координате, h\n",
    "dt = 0.2 * h / abs(C1) # коэффициент должен быть меньше единицы\n",
    "print(dt)\n",
    "\n",
    "\n",
    "u_init0 = []\n",
    "v_init0 = []\n",
    "for el in x:\n",
    "    u_init0.append(m.sin(el))\n",
    "    v_init0.append(m.cos(el)) \n",
    "u_init = np.array(u_init0)\n",
    "v_init = np.array(v_init0)\n",
    "w1_init = u_init + v_init #компоненты вектора w\n",
    "w2_init = - u_init + v_init\n",
    "#q_init = np.zeros(M) #это для посторения графика. Пусть обе компоненты вектора q в начале имели значения, равные единице, в средней трети области\n",
    "#for i in range(int(1.0 / 3.0 * M), int(2.0 / 3.0 * M)):\n",
    "# q_init[i] = 1 "
   ]
  },
  {
   "cell_type": "code",
   "execution_count": 78,
   "metadata": {},
   "outputs": [
    {
     "data": {
      "image/png": "[encoded data removed]",
      "text/plain": [
       "<Figure size 432x288 with 2 Axes>"
      ]
     },
     "metadata": {
      "needs_background": "light"
     },
     "output_type": "display_data"
    }
   ],
   "source": [
    "def Transport1 (w0, C): #здесь решается уравнение переноса сеточно-характеристическим методом\n",
    "    w_next = np.zeros(M)\n",
    "    w_curr = w0 # начальное ненулевое значение \n",
    "    for k in range(int(T / dt)):\n",
    "        for i in range(M):\n",
    "            if i == 0: # периодические граничные условия\n",
    "                w_next[i] = w_curr[i] - dt * ((C+abs(C))/2*(w_curr[i]-w_curr[M-1])/h + (C-abs(C))/2*(w_curr[i+1]-w_curr[i])/h)\n",
    "            if i == M-1:\n",
    "                w_next[i] = w_curr[i] - dt * ((C+abs(C))/2*(w_curr[i]-w_curr[i-1])/h + (C-abs(C))/2*(w_curr[0]-w_curr[i])/h)\n",
    "            if ((i != 0) and (i != M-1)):\n",
    "                w_next[i] = w_curr[i] - dt * ((C+abs(C))/2*(w_curr[i]-w_curr[i-1])/h + (C-abs(C))/2*(w_curr[i+1]-w_curr[i])/h)\n",
    "        for i in range(M):\n",
    "            w_curr[i] = w_next[i]\n",
    "    return(w_curr)\n",
    "\n",
    "x_m = np.linspace(0,L,M) #для построения графика\n",
    "w1 = Transport(w1_init, C1)\n",
    "w2 = Transport(w2_init, C2)\n",
    "u = (w1 - w2) / 2 #возвращаемся к компонетам вектора q\n",
    "v = (w1 + w2) / 2\n",
    "fig, ax = plt.subplots(2,1)\n",
    "T=10.0\n",
    "ax[0].plot(x_m, (m.cos(T)+m.sin(T))*np.array(u_init0), '-', label=\"Начальное значение\")\n",
    "ax[1].plot(x_m, (m.cos(T)-m.sin(T))*np.array(v_init0), '-', label=\"Начальное значение\")\n",
    "ax[0].plot(x_m, u, 'o', label=\"Итоговое значение\")\n",
    "ax[1].plot(x_m, v, 'o', label=\"Итоговое значение\")\n",
    "ax[0].set_title(\"u\")\n",
    "ax[1].set_title(\"v\")\n",
    "for _ in ax:\n",
    "    _.legend()\n",
    "plt.show()"
   ]
  },
  {
   "cell_type": "code",
   "execution_count": 15,
   "metadata": {},
   "outputs": [
    {
     "name": "stdout",
     "output_type": "stream",
     "text": [
      "[0.0, 0.3490658503988659, 0.6981317007977318, 1.0471975511965976, 1.3962634015954636, 1.7453292519943295, 2.0943951023931953, 2.443460952792061, 2.792526803190927, 3.141592653589793]\n"
     ]
    }
   ],
   "source": [
    "import numpy as np\n",
    "import math as m\n"
   ]
  },
  {
   "cell_type": "code",
   "execution_count": 68,
   "metadata": {},
   "outputs": [
    {
     "name": "stdout",
     "output_type": "stream",
     "text": [
      "[0.  0.5 1.  1.5 2.  2.5]\n"
     ]
    }
   ],
   "source": [
    "import numpy as np\n",
    "a=np.linspace(0,5,6)\n",
    "print(a*0.5)"
   ]
  }
 ],
 "metadata": {
  "kernelspec": {
   "display_name": "Python 3",
   "language": "python",
   "name": "python3"
  },
  "language_info": {
   "codemirror_mode": {
    "name": "ipython",
    "version": 3
   },
   "file_extension": ".py",
   "mimetype": "text/x-python",
   "name": "python",
   "nbconvert_exporter": "python",
   "pygments_lexer": "ipython3",
   "version": "3.8.5"
  }
 },
 "nbformat": 4,
 "nbformat_minor": 4
}
