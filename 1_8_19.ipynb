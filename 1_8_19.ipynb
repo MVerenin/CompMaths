{
 "cells": [
  {
   "cell_type": "markdown",
   "metadata": {},
   "source": [
    "### I.8.19"
   ]
  },
  {
   "cell_type": "code",
   "execution_count": 38,
   "metadata": {},
   "outputs": [
    {
     "name": "stdout",
     "output_type": "stream",
     "text": [
      "0.00833333333333333*t**5 - 0.166666666666667*t**3 + 1.0*t\n",
      "0.00833333333333333*t**5 + 0.0416666666666667*t**4 + 0.166666666666667*t**3 + 0.5*t**2 + 1.0*t + 1.0\n",
      "-0.00699226274230377*t**5 - 0.0226675462870571*t**4 + 0.139845254846075*t**3 + 0.272010555444685*t**2 - 0.839071529076452*t - 0.54402111088937\n",
      "183.553881623389*t**5 + 917.769408116947*t**4 + 3671.07763246779*t**3 + 11013.2328974034*t**2 + 22026.4657948067*t + 22026.4657948067\n",
      "1.00000000000000\n"
     ]
    }
   ],
   "source": [
    "import sympy as sp\n",
    "\n",
    "def Row(n, func):\n",
    "    comp = sp.lambdify(t,func)\n",
    "    sum = comp(0)\n",
    "    for i in range(1,n):\n",
    "        func = sp.diff(func,t)\n",
    "        comp = sp.lambdify(t,func)\n",
    "        sum = sum + (comp(0) * (t**i))/sp.factorial(i)\n",
    "    return sum        \n",
    "\n",
    "t = sp.symbols('t')\n",
    "func1 = sp.sin(t)\n",
    "func2 = sp.exp(t)\n",
    "func3 = sp.sin(10 + t)\n",
    "func4 = sp.exp(10 + t)\n",
    "print(Row(6,func1))\n",
    "print(Row(6,func2))\n",
    "print(Row(6,func3))\n",
    "print(Row(6,func4)) \n",
    "print(Row(6,func2).subs(t,0))"
   ]
  },
  {
   "cell_type": "code",
   "execution_count": 30,
   "metadata": {},
   "outputs": [
    {
     "name": "stdout",
     "output_type": "stream",
     "text": [
      "4.16666666666667e-5*t**4 + 0.000166666666666667*t**3 + 0.0005*t**2 + 0.001*t + 0.001\n"
     ]
    }
   ],
   "source": [
    "def Delta(n, func):\n",
    "    R = Row(n, func)\n",
    "    D = sp.diff(R, t)\n",
    "    delta = D * tau\n",
    "    return delta\n",
    "tau =0.001\n",
    "print(Delta(6, sp.exp(t)))"
   ]
  },
  {
   "cell_type": "code",
   "execution_count": 34,
   "metadata": {},
   "outputs": [
    {
     "name": "stdout",
     "output_type": "stream",
     "text": [
      "7 7\n"
     ]
    }
   ],
   "source": [
    "import math as m\n",
    "def DeltaExp(b):\n",
    "    n = 0\n",
    "    while m.exp(b)/m.factorial(n) > tau:\n",
    "        n += 1\n",
    "    return n\n",
    "def DeltaSin(b):\n",
    "    n = 0\n",
    "    while 1/m.factorial(n) > tau:\n",
    "        n += 1\n",
    "    return n  \n",
    "print (DeltaExp(1), DeltaSin(1))"
   ]
  }
 ],
 "metadata": {
  "kernelspec": {
   "display_name": "Python 3",
   "language": "python",
   "name": "python3"
  },
  "language_info": {
   "codemirror_mode": {
    "name": "ipython",
    "version": 3
   },
   "file_extension": ".py",
   "mimetype": "text/x-python",
   "name": "python",
   "nbconvert_exporter": "python",
   "pygments_lexer": "ipython3",
   "version": "3.8.5"
  }
 },
 "nbformat": 4,
 "nbformat_minor": 4
}
