{
 "cells": [
  {
   "cell_type": "code",
   "execution_count": 1,
   "metadata": {},
   "outputs": [
    {
     "data": {
      "image/png": "[encoded data removed]",
      "text/plain": [
       "<Figure size 432x288 with 1 Axes>"
      ]
     },
     "metadata": {
      "needs_background": "light"
     },
     "output_type": "display_data"
    }
   ],
   "source": [
    "# Импортируем модули для хранения и визуализации расчётов\n",
    "import numpy as np\n",
    "import math as m\n",
    "import matplotlib.pyplot as plt\n",
    "\n",
    "# Определим параметры задачи\n",
    "L = 10 # задача решается на отрезке [-L; L]\n",
    "T = 0.08 # время моделирования\n",
    "k = 5/3 # показатель адиабаты\n",
    "MaxCFL = 1 # ограничение на число Куранта\n",
    "dt = 10e-5 # шаг по времени\n",
    "M = 101 # число узлов сетки\n",
    "h = 2*L/(M-1) # шаг по координате\n",
    "VecX = np.linspace(-L, L, M)\n",
    "\n",
    "rho_init = np.zeros(M)\n",
    "p_init = np.zeros(M)\n",
    "rho_init[0:int(M/2)+1]+=np.ones(int(M/2)+1)*13\n",
    "rho_init[int(M/2)+1:M]+=np.ones(int(M/2))*1.3\n",
    "p_init[0:int(M/2)+1]+=np.ones(int(M/2)+1)*10\n",
    "p_init[int(M/2)+1:M]+=np.ones(int(M/2))*1\n",
    "data_current = np.array([rho_init, np.zeros(M), p_init/(k-1)])\n",
    "data_next = np.zeros([3,M])\n",
    "time = 0\n",
    "#Расчёт\n",
    "for j in range(int(T/dt)):\n",
    "    for i in range(1,M-1):\n",
    "        u = (data_current[1]/data_current[0])[i]\n",
    "        e = (data_current[2]/data_current[0])[i]\n",
    "        c = ((data_current[2]/data_current[0])**0.5*m.sqrt(k**2-k))[i]\n",
    "        OmegaT = np.array([[-u*c, c, k-1],\n",
    "                           [-c**2, 0, k-1],\n",
    "                           [u*c, -c, k-1]])\n",
    "        OmegaT_inv = np.array([[1/2/c**2, -1/c**2, 1/2/c**2],\n",
    "                              [(c+u)/2/c**2, -u/c**2, (-c+u)/2/c**2],\n",
    "                              [1/2/(k-1), 0, 1/2/(k-1)]])\n",
    "        Lambda = np.array([[u+c, 0, 0],\n",
    "                          [0, u, 0],\n",
    "                          [0, 0, u-c]])\n",
    "        AbsLambda = np.array([[abs(u+c), 0, 0],\n",
    "                              [0, abs(u), 0],\n",
    "                              [0, 0, abs(u-c)]])\n",
    "        A = np.array([[0, 1, 0],\n",
    "                     [-u**2, 2*u, k-1],\n",
    "                     [-e*u*k, e*k, u]])\n",
    "        # Переходим в консервативные переменные\n",
    "        w = np.array([data_current[0][i], data_current[1][i], data_current[2][i]])\n",
    "        wp = np.array([data_current[0][i-1], data_current[1][i-1], data_current[2][i-1]])\n",
    "        wn = np.array([data_current[0][i+1], data_current[1][i+1], data_current[2][i+1]])\n",
    "        # Решаем уравнения на консервативные переменные\n",
    "        w_new = w - dt*A@(wn-wp)/2/h+dt/2/h*OmegaT_inv@AbsLambda@OmegaT@(wn-2*w+wp)\n",
    "        data_next[0][i] = (w_new)[0]\n",
    "        data_next[1][i] = (w_new)[1]\n",
    "        data_next[2][i] = (w_new)[2]\n",
    "    data_next[0][0]=data_next[0][1]\n",
    "    data_next[1][0]=data_next[1][1]\n",
    "    data_next[2][0]=data_next[2][1]\n",
    "    data_next[0][M-1]=data_next[0][M-2]\n",
    "    data_next[1][M-1]=data_next[1][M-2]\n",
    "    data_next[2][M-1]=data_next[2][M-2]\n",
    "    time+=dt\n",
    "    data_current = data_next\n",
    "plt.plot(VecX, data_current[0])\n",
    "plt.show()"
   ]
  }
 ],
 "metadata": {
  "kernelspec": {
   "display_name": "Python 3",
   "language": "python",
   "name": "python3"
  },
  "language_info": {
   "codemirror_mode": {
    "name": "ipython",
    "version": 3
   },
   "file_extension": ".py",
   "mimetype": "text/x-python",
   "name": "python",
   "nbconvert_exporter": "python",
   "pygments_lexer": "ipython3",
   "version": "3.8.5"
  }
 },
 "nbformat": 4,
 "nbformat_minor": 4
}
